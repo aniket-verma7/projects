{
  "nbformat": 4,
  "nbformat_minor": 0,
  "metadata": {
    "colab": {
      "name": "web1.ipynb",
      "provenance": [],
      "collapsed_sections": [],
      "authorship_tag": "ABX9TyPz1JMLXId/IxxDm0ILfrfq"
    },
    "kernelspec": {
      "name": "python3",
      "display_name": "Python 3"
    }
  },
  "cells": [
    {
      "cell_type": "code",
      "metadata": {
        "colab": {
          "base_uri": "https://localhost:8080/",
          "height": 542
        },
        "id": "xh3hVYh7kJio",
        "outputId": "23dd5b80-4fcc-40c7-9f66-a258d31c02b6"
      },
      "source": [
        "import requests\n",
        "from bs4 import BeautifulSoup\n",
        "import plotly.graph_objects as go\n",
        "\n",
        "x = requests.get('https://www.cars.com/research/sedan/')\n",
        "b = BeautifulSoup(x.text)\n",
        "\n",
        "carName = b.find_all('h4')\n",
        "carPrice = b.find_all(class_=\"msrp\")\n",
        "\n",
        "col1 = list()\n",
        "col2 = list()\n",
        "\n",
        "for car in carName:\n",
        "  if car!=\"\":\n",
        "    col1.append(car.get_text())\n",
        "\n",
        "for price in carPrice:\n",
        "  col2.append(price.get_text())\n",
        "\n",
        "fig = go.Figure(data=[go.Table(header=dict(values=['Cars', 'Price']),cells=dict(values=[col1, col2]))])\n",
        "fig.show()"
      ],
      "execution_count": 59,
      "outputs": [
        {
          "output_type": "display_data",
          "data": {
            "text/html": [
              "<html>\n",
              "<head><meta charset=\"utf-8\" /></head>\n",
              "<body>\n",
              "    <div>\n",
              "            <script src=\"https://cdnjs.cloudflare.com/ajax/libs/mathjax/2.7.5/MathJax.js?config=TeX-AMS-MML_SVG\"></script><script type=\"text/javascript\">if (window.MathJax) {MathJax.Hub.Config({SVG: {font: \"STIX-Web\"}});}</script>\n",
              "                <script type=\"text/javascript\">window.PlotlyConfig = {MathJaxConfig: 'local'};</script>\n",
              "        <script src=\"https://cdn.plot.ly/plotly-latest.min.js\"></script>    \n",
              "            <div id=\"cb142ed1-9219-4d72-811d-7b2db0a07e67\" class=\"plotly-graph-div\" style=\"height:525px; width:100%;\"></div>\n",
              "            <script type=\"text/javascript\">\n",
              "                \n",
              "                    window.PLOTLYENV=window.PLOTLYENV || {};\n",
              "                    \n",
              "                if (document.getElementById(\"cb142ed1-9219-4d72-811d-7b2db0a07e67\")) {\n",
              "                    Plotly.newPlot(\n",
              "                        'cb142ed1-9219-4d72-811d-7b2db0a07e67',\n",
              "                        [{\"cells\": {\"values\": [[\"2021 BMW 740\", \"2021 BMW 750\", \"2021 Bentley Flying Spur\", \"2021 Lexus IS 300\", \"2021 Maserati Ghibli\", \"2021 Maserati Quattroporte\", \"2021 Porsche Taycan\", \"2021 Tesla Model 3\", \"2021 Tesla Model S\", \"2021 Volvo S90\", \"2021 Acura ILX\", \"2021 Acura TLX\", \"2021 Audi A4\", \"2021 Audi A6\", \"2021 Audi A8\", \"2021 Audi S4\", \"2021 Audi S6\", \"2021 Audi S8\", \"2021 BMW 228 Gran Coupe\", \"2021 BMW 330\", \"2021 BMW 530\", \"2021 BMW 530e\", \"2021 BMW 540\", \"2021 BMW 745e\", \"2021 BMW 840 Gran Coupe\", \"2021 BMW ALPINA B7\", \"2021 BMW M235 Gran Coupe\", \"2021 BMW M3\", \"2021 BMW M340\", \"2021 BMW M5\", \"2021 BMW M550\", \"2021 BMW M760\", \"2021 BMW M8 Gran Coupe\", \"2021 BMW M850 Gran Coupe\", \"2021 Cadillac CT4\", \"2021 Cadillac CT4\", \"2021 Cadillac CT5\", \"2021 Cadillac CT5\", \"2021 Chevrolet Malibu\", \"2021 Chrysler 300\", \"2021 Dodge Charger\", \"2021 Genesis G80\", \"2021 Genesis G90\", \"2021 Honda Accord\", \"2021 Honda Accord Hybrid\", \"2021 Honda Clarity Plug-In Hybrid\", \"2021 Honda Insight\", \"2021 Hyundai Accent\", \"2021 Hyundai Elantra\", \"2021 Hyundai Elantra HEV\", \"2021 Hyundai Sonata\", \"2021 Hyundai Sonata Hybrid\", \"2021 INFINITI Q50\", \"2021 Kia Forte\", \"2021 Kia K5\", \"2021 Lexus ES 250\", \"2021 Lexus ES 300h\", \"2021 Lexus ES 350\", \"2021 Lexus IS 350\", \"2021 Lexus LS 500\", \"2021 Mazda Mazda3\", \"2021 Mazda Mazda6\", \"2021 Mercedes-Benz A-Class\", \"2021 Mercedes-Benz AMG A 35\", \"2021 Mercedes-Benz AMG CLA 35\", \"2021 Mercedes-Benz AMG CLS 53\", \"2021 Mercedes-Benz AMG E 63\", \"2021 Mercedes-Benz AMG GT 43\", \"2021 Mercedes-Benz AMG GT 53\", \"2021 Mercedes-Benz AMG GT 63\", \"2021 Mercedes-Benz CLA 250\", \"2021 Mercedes-Benz CLS 450\", \"2021 Mercedes-Benz E-Class\", \"2021 Nissan Altima\", \"2021 Nissan Maxima\", \"2021 Nissan Sentra\", \"2021 Nissan Versa\", \"2021 Polestar 2\", \"2021 Subaru Impreza\", \"2021 Subaru Legacy\", \"2021 Toyota Avalon\", \"2021 Toyota Avalon Hybrid\", \"2021 Toyota Camry\", \"2021 Toyota Camry Hybrid\", \"2021 Toyota Corolla\", \"2021 Toyota Corolla Hybrid\", \"2021 Volkswagen Jetta\", \"2021 Volkswagen Jetta GLI\", \"2021 Volkswagen Passat\", \"2021 Volvo S60\", \"2021 Volvo S60 Recharge Plug-In Hybrid\", \"2021 Volvo S90 Recharge Plug-In Hybrid\", \"\", \"\", \"\", \"\", \"\", \"\", \"\", \"\", \"\", \"\", \"\", \"\", \"\", \"\", \"\"], [\"$86,800\", \"$103,000\", \"$216,700\", \"$39,000\", \"$72,190\", \"$102,190\", \"$103,800\", \"$37,990\", \"$69,420\", \"$51,550\", \"$26,100\", \"$37,500\", \"$39,100\", \"$54,900\", \"$86,500\", \"$49,900\", \"$74,400\", \"$130,900\", \"$35,700\", \"$41,250\", \"$54,200\", \"$57,200\", \"$59,450\", \"$95,900\", \"$85,000\", \"$143,200\", \"$45,500\", \"$69,900\", \"$54,700\", \"$103,500\", \"$76,800\", \"$157,800\", \"$130,000\", \"$108,900\", \"$44,895\", \"$33,395\", \"$47,795\", \"$36,995\", \"$22,140\", \"$30,795\", \"$29,995\", \"$47,700\", \"$72,950\", \"$24,970\", \"$26,570\", \"$33,400\", \"$23,130\", \"$15,395\", \"$19,650\", \"$23,550\", \"$23,700\", \"$27,750\", \"$36,600\", \"$17,890\", \"$23,590\", \"$40,000\", \"$41,910\", \"$40,000\", \"$42,900\", \"$76,000\", \"$22,850\", \"$24,475\", \"$33,650\", \"$45,850\", \"$47,850\", \"$81,550\", \"$107,500\", \"$89,900\", \"$99,950\", \"$140,600\", \"$37,850\", \"$70,300\", \"$62,000\", \"$24,300\", \"$37,090\", \"$19,460\", \"$14,930\", \"$59,900\", \"$18,795\", \"$22,895\", \"$35,975\", \"$37,100\", \"$24,970\", \"$27,270\", \"$20,025\", \"$23,600\", \"$18,995\", \"$26,345\", \"$23,995\", \"$38,950\", \"$47,650\", \"$60,050\"]]}, \"header\": {\"values\": [\"Cars\", \"Price\"]}, \"type\": \"table\"}],\n",
              "                        {\"template\": {\"data\": {\"bar\": [{\"error_x\": {\"color\": \"#2a3f5f\"}, \"error_y\": {\"color\": \"#2a3f5f\"}, \"marker\": {\"line\": {\"color\": \"#E5ECF6\", \"width\": 0.5}}, \"type\": \"bar\"}], \"barpolar\": [{\"marker\": {\"line\": {\"color\": \"#E5ECF6\", \"width\": 0.5}}, \"type\": \"barpolar\"}], \"carpet\": [{\"aaxis\": {\"endlinecolor\": \"#2a3f5f\", \"gridcolor\": \"white\", \"linecolor\": \"white\", \"minorgridcolor\": \"white\", \"startlinecolor\": \"#2a3f5f\"}, \"baxis\": {\"endlinecolor\": \"#2a3f5f\", \"gridcolor\": \"white\", \"linecolor\": \"white\", \"minorgridcolor\": \"white\", \"startlinecolor\": \"#2a3f5f\"}, \"type\": \"carpet\"}], \"choropleth\": [{\"colorbar\": {\"outlinewidth\": 0, \"ticks\": \"\"}, \"type\": \"choropleth\"}], \"contour\": [{\"colorbar\": {\"outlinewidth\": 0, \"ticks\": \"\"}, \"colorscale\": [[0.0, \"#0d0887\"], [0.1111111111111111, \"#46039f\"], [0.2222222222222222, \"#7201a8\"], [0.3333333333333333, \"#9c179e\"], [0.4444444444444444, \"#bd3786\"], [0.5555555555555556, \"#d8576b\"], [0.6666666666666666, \"#ed7953\"], [0.7777777777777778, \"#fb9f3a\"], [0.8888888888888888, \"#fdca26\"], [1.0, \"#f0f921\"]], \"type\": \"contour\"}], \"contourcarpet\": [{\"colorbar\": {\"outlinewidth\": 0, \"ticks\": \"\"}, \"type\": \"contourcarpet\"}], \"heatmap\": [{\"colorbar\": {\"outlinewidth\": 0, \"ticks\": \"\"}, \"colorscale\": [[0.0, \"#0d0887\"], [0.1111111111111111, \"#46039f\"], [0.2222222222222222, \"#7201a8\"], [0.3333333333333333, \"#9c179e\"], [0.4444444444444444, \"#bd3786\"], [0.5555555555555556, \"#d8576b\"], [0.6666666666666666, \"#ed7953\"], [0.7777777777777778, \"#fb9f3a\"], [0.8888888888888888, \"#fdca26\"], [1.0, \"#f0f921\"]], \"type\": \"heatmap\"}], \"heatmapgl\": [{\"colorbar\": {\"outlinewidth\": 0, \"ticks\": \"\"}, \"colorscale\": [[0.0, \"#0d0887\"], [0.1111111111111111, \"#46039f\"], [0.2222222222222222, \"#7201a8\"], [0.3333333333333333, \"#9c179e\"], [0.4444444444444444, \"#bd3786\"], [0.5555555555555556, \"#d8576b\"], [0.6666666666666666, \"#ed7953\"], [0.7777777777777778, \"#fb9f3a\"], [0.8888888888888888, \"#fdca26\"], [1.0, \"#f0f921\"]], \"type\": \"heatmapgl\"}], \"histogram\": [{\"marker\": {\"colorbar\": {\"outlinewidth\": 0, \"ticks\": \"\"}}, \"type\": \"histogram\"}], \"histogram2d\": [{\"colorbar\": {\"outlinewidth\": 0, \"ticks\": \"\"}, \"colorscale\": [[0.0, \"#0d0887\"], [0.1111111111111111, \"#46039f\"], [0.2222222222222222, \"#7201a8\"], [0.3333333333333333, \"#9c179e\"], [0.4444444444444444, \"#bd3786\"], [0.5555555555555556, \"#d8576b\"], [0.6666666666666666, \"#ed7953\"], [0.7777777777777778, \"#fb9f3a\"], [0.8888888888888888, \"#fdca26\"], [1.0, \"#f0f921\"]], \"type\": \"histogram2d\"}], \"histogram2dcontour\": [{\"colorbar\": {\"outlinewidth\": 0, \"ticks\": \"\"}, \"colorscale\": [[0.0, \"#0d0887\"], [0.1111111111111111, \"#46039f\"], [0.2222222222222222, \"#7201a8\"], [0.3333333333333333, \"#9c179e\"], [0.4444444444444444, \"#bd3786\"], [0.5555555555555556, \"#d8576b\"], [0.6666666666666666, \"#ed7953\"], [0.7777777777777778, \"#fb9f3a\"], [0.8888888888888888, \"#fdca26\"], [1.0, \"#f0f921\"]], \"type\": \"histogram2dcontour\"}], \"mesh3d\": [{\"colorbar\": {\"outlinewidth\": 0, \"ticks\": \"\"}, \"type\": \"mesh3d\"}], \"parcoords\": [{\"line\": {\"colorbar\": {\"outlinewidth\": 0, \"ticks\": \"\"}}, \"type\": \"parcoords\"}], \"pie\": [{\"automargin\": true, \"type\": \"pie\"}], \"scatter\": [{\"marker\": {\"colorbar\": {\"outlinewidth\": 0, \"ticks\": \"\"}}, \"type\": \"scatter\"}], \"scatter3d\": [{\"line\": {\"colorbar\": {\"outlinewidth\": 0, \"ticks\": \"\"}}, \"marker\": {\"colorbar\": {\"outlinewidth\": 0, \"ticks\": \"\"}}, \"type\": \"scatter3d\"}], \"scattercarpet\": [{\"marker\": {\"colorbar\": {\"outlinewidth\": 0, \"ticks\": \"\"}}, \"type\": \"scattercarpet\"}], \"scattergeo\": [{\"marker\": {\"colorbar\": {\"outlinewidth\": 0, \"ticks\": \"\"}}, \"type\": \"scattergeo\"}], \"scattergl\": [{\"marker\": {\"colorbar\": {\"outlinewidth\": 0, \"ticks\": \"\"}}, \"type\": \"scattergl\"}], \"scattermapbox\": [{\"marker\": {\"colorbar\": {\"outlinewidth\": 0, \"ticks\": \"\"}}, \"type\": \"scattermapbox\"}], \"scatterpolar\": [{\"marker\": {\"colorbar\": {\"outlinewidth\": 0, \"ticks\": \"\"}}, \"type\": \"scatterpolar\"}], \"scatterpolargl\": [{\"marker\": {\"colorbar\": {\"outlinewidth\": 0, \"ticks\": \"\"}}, \"type\": \"scatterpolargl\"}], \"scatterternary\": [{\"marker\": {\"colorbar\": {\"outlinewidth\": 0, \"ticks\": \"\"}}, \"type\": \"scatterternary\"}], \"surface\": [{\"colorbar\": {\"outlinewidth\": 0, \"ticks\": \"\"}, \"colorscale\": [[0.0, \"#0d0887\"], [0.1111111111111111, \"#46039f\"], [0.2222222222222222, \"#7201a8\"], [0.3333333333333333, \"#9c179e\"], [0.4444444444444444, \"#bd3786\"], [0.5555555555555556, \"#d8576b\"], [0.6666666666666666, \"#ed7953\"], [0.7777777777777778, \"#fb9f3a\"], [0.8888888888888888, \"#fdca26\"], [1.0, \"#f0f921\"]], \"type\": \"surface\"}], \"table\": [{\"cells\": {\"fill\": {\"color\": \"#EBF0F8\"}, \"line\": {\"color\": \"white\"}}, \"header\": {\"fill\": {\"color\": \"#C8D4E3\"}, \"line\": {\"color\": \"white\"}}, \"type\": \"table\"}]}, \"layout\": {\"annotationdefaults\": {\"arrowcolor\": \"#2a3f5f\", \"arrowhead\": 0, \"arrowwidth\": 1}, \"coloraxis\": {\"colorbar\": {\"outlinewidth\": 0, \"ticks\": \"\"}}, \"colorscale\": {\"diverging\": [[0, \"#8e0152\"], [0.1, \"#c51b7d\"], [0.2, \"#de77ae\"], [0.3, \"#f1b6da\"], [0.4, \"#fde0ef\"], [0.5, \"#f7f7f7\"], [0.6, \"#e6f5d0\"], [0.7, \"#b8e186\"], [0.8, \"#7fbc41\"], [0.9, \"#4d9221\"], [1, \"#276419\"]], \"sequential\": [[0.0, \"#0d0887\"], [0.1111111111111111, \"#46039f\"], [0.2222222222222222, \"#7201a8\"], [0.3333333333333333, \"#9c179e\"], [0.4444444444444444, \"#bd3786\"], [0.5555555555555556, \"#d8576b\"], [0.6666666666666666, \"#ed7953\"], [0.7777777777777778, \"#fb9f3a\"], [0.8888888888888888, \"#fdca26\"], [1.0, \"#f0f921\"]], \"sequentialminus\": [[0.0, \"#0d0887\"], [0.1111111111111111, \"#46039f\"], [0.2222222222222222, \"#7201a8\"], [0.3333333333333333, \"#9c179e\"], [0.4444444444444444, \"#bd3786\"], [0.5555555555555556, \"#d8576b\"], [0.6666666666666666, \"#ed7953\"], [0.7777777777777778, \"#fb9f3a\"], [0.8888888888888888, \"#fdca26\"], [1.0, \"#f0f921\"]]}, \"colorway\": [\"#636efa\", \"#EF553B\", \"#00cc96\", \"#ab63fa\", \"#FFA15A\", \"#19d3f3\", \"#FF6692\", \"#B6E880\", \"#FF97FF\", \"#FECB52\"], \"font\": {\"color\": \"#2a3f5f\"}, \"geo\": {\"bgcolor\": \"white\", \"lakecolor\": \"white\", \"landcolor\": \"#E5ECF6\", \"showlakes\": true, \"showland\": true, \"subunitcolor\": \"white\"}, \"hoverlabel\": {\"align\": \"left\"}, \"hovermode\": \"closest\", \"mapbox\": {\"style\": \"light\"}, \"paper_bgcolor\": \"white\", \"plot_bgcolor\": \"#E5ECF6\", \"polar\": {\"angularaxis\": {\"gridcolor\": \"white\", \"linecolor\": \"white\", \"ticks\": \"\"}, \"bgcolor\": \"#E5ECF6\", \"radialaxis\": {\"gridcolor\": \"white\", \"linecolor\": \"white\", \"ticks\": \"\"}}, \"scene\": {\"xaxis\": {\"backgroundcolor\": \"#E5ECF6\", \"gridcolor\": \"white\", \"gridwidth\": 2, \"linecolor\": \"white\", \"showbackground\": true, \"ticks\": \"\", \"zerolinecolor\": \"white\"}, \"yaxis\": {\"backgroundcolor\": \"#E5ECF6\", \"gridcolor\": \"white\", \"gridwidth\": 2, \"linecolor\": \"white\", \"showbackground\": true, \"ticks\": \"\", \"zerolinecolor\": \"white\"}, \"zaxis\": {\"backgroundcolor\": \"#E5ECF6\", \"gridcolor\": \"white\", \"gridwidth\": 2, \"linecolor\": \"white\", \"showbackground\": true, \"ticks\": \"\", \"zerolinecolor\": \"white\"}}, \"shapedefaults\": {\"line\": {\"color\": \"#2a3f5f\"}}, \"ternary\": {\"aaxis\": {\"gridcolor\": \"white\", \"linecolor\": \"white\", \"ticks\": \"\"}, \"baxis\": {\"gridcolor\": \"white\", \"linecolor\": \"white\", \"ticks\": \"\"}, \"bgcolor\": \"#E5ECF6\", \"caxis\": {\"gridcolor\": \"white\", \"linecolor\": \"white\", \"ticks\": \"\"}}, \"title\": {\"x\": 0.05}, \"xaxis\": {\"automargin\": true, \"gridcolor\": \"white\", \"linecolor\": \"white\", \"ticks\": \"\", \"title\": {\"standoff\": 15}, \"zerolinecolor\": \"white\", \"zerolinewidth\": 2}, \"yaxis\": {\"automargin\": true, \"gridcolor\": \"white\", \"linecolor\": \"white\", \"ticks\": \"\", \"title\": {\"standoff\": 15}, \"zerolinecolor\": \"white\", \"zerolinewidth\": 2}}}},\n",
              "                        {\"responsive\": true}\n",
              "                    ).then(function(){\n",
              "                            \n",
              "var gd = document.getElementById('cb142ed1-9219-4d72-811d-7b2db0a07e67');\n",
              "var x = new MutationObserver(function (mutations, observer) {{\n",
              "        var display = window.getComputedStyle(gd).display;\n",
              "        if (!display || display === 'none') {{\n",
              "            console.log([gd, 'removed!']);\n",
              "            Plotly.purge(gd);\n",
              "            observer.disconnect();\n",
              "        }}\n",
              "}});\n",
              "\n",
              "// Listen for the removal of the full notebook cells\n",
              "var notebookContainer = gd.closest('#notebook-container');\n",
              "if (notebookContainer) {{\n",
              "    x.observe(notebookContainer, {childList: true});\n",
              "}}\n",
              "\n",
              "// Listen for the clearing of the current output cell\n",
              "var outputEl = gd.closest('.output');\n",
              "if (outputEl) {{\n",
              "    x.observe(outputEl, {childList: true});\n",
              "}}\n",
              "\n",
              "                        })\n",
              "                };\n",
              "                \n",
              "            </script>\n",
              "        </div>\n",
              "</body>\n",
              "</html>"
            ]
          },
          "metadata": {
            "tags": []
          }
        }
      ]
    }
  ]
}